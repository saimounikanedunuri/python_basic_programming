{
 "cells": [
  {
   "cell_type": "code",
   "execution_count": 4,
   "metadata": {},
   "outputs": [
    {
     "name": "stdout",
     "output_type": "stream",
     "text": [
      "Hello World!\n"
     ]
    }
   ],
   "source": [
    "#printing hello world\n",
    "print('Hello World!')"
   ]
  },
  {
   "cell_type": "code",
   "execution_count": 5,
   "metadata": {},
   "outputs": [
    {
     "name": "stdout",
     "output_type": "stream",
     "text": [
      "enter your data:Hey there, i am able to take values..\n",
      "Hey there, i am able to take values..\n"
     ]
    }
   ],
   "source": [
    "#taking input from user\n",
    "num=input('enter your data:')\n",
    "print(num)"
   ]
  },
  {
   "cell_type": "code",
   "execution_count": 7,
   "metadata": {},
   "outputs": [
    {
     "name": "stdout",
     "output_type": "stream",
     "text": [
      "negative\n"
     ]
    }
   ],
   "source": [
    "#check whether number is positive or negative\n",
    "n=17\n",
    "if n%2==0:\n",
    "    print('positive')\n",
    "else:\n",
    "    print('negative')"
   ]
  },
  {
   "cell_type": "code",
   "execution_count": 11,
   "metadata": {},
   "outputs": [
    {
     "name": "stdout",
     "output_type": "stream",
     "text": [
      "leap year\n"
     ]
    }
   ],
   "source": [
    "#check leap year\n",
    "leap=2020\n",
    "if leap%4==0:\n",
    "    print('leap year')\n",
    "else:\n",
    "    print('not leap year')"
   ]
  },
  {
   "cell_type": "code",
   "execution_count": 19,
   "metadata": {},
   "outputs": [
    {
     "name": "stdout",
     "output_type": "stream",
     "text": [
      "enter a character:@\n",
      "@ is not a char\n"
     ]
    }
   ],
   "source": [
    "#check given input is character or not\n",
    "given=input('enter a character:')\n",
    "if ((given>='a' and given<='z') or (given >='A' and given <='Z')):\n",
    "    print(given,'is a char')\n",
    "else:\n",
    "    print(given,'is not a char')"
   ]
  },
  {
   "cell_type": "code",
   "execution_count": 17,
   "metadata": {},
   "outputs": [
    {
     "name": "stdout",
     "output_type": "stream",
     "text": [
      "enter a character:w\n",
      "w is a consonent\n"
     ]
    }
   ],
   "source": [
    "#check given input is a vowel or consonent\n",
    "data=input('enter a character:')\n",
    "vowel=['a','e','i','o','u']\n",
    "if data in vowel:\n",
    "    print(data,'is a vowel')\n",
    "else:\n",
    "    print(data,'is a consonent')"
   ]
  },
  {
   "cell_type": "code",
   "execution_count": 20,
   "metadata": {},
   "outputs": [
    {
     "name": "stdout",
     "output_type": "stream",
     "text": [
      "35\n"
     ]
    }
   ],
   "source": [
    "#add two numbers\n",
    "a=12\n",
    "b=23\n",
    "print(a+b)"
   ]
  },
  {
   "cell_type": "code",
   "execution_count": 25,
   "metadata": {},
   "outputs": [
    {
     "name": "stdout",
     "output_type": "stream",
     "text": [
      "enter n value:27\n",
      "2 is not a prime number\n",
      "3 is a prime\n",
      "4 is not a prime number\n",
      "5 is a prime\n",
      "6 is not a prime number\n",
      "7 is a prime\n",
      "8 is not a prime number\n",
      "9 is a prime\n",
      "10 is not a prime number\n",
      "11 is a prime\n",
      "12 is not a prime number\n",
      "13 is a prime\n",
      "14 is not a prime number\n",
      "15 is a prime\n",
      "16 is not a prime number\n",
      "17 is a prime\n",
      "18 is not a prime number\n",
      "19 is a prime\n",
      "20 is not a prime number\n",
      "21 is a prime\n",
      "22 is not a prime number\n",
      "23 is a prime\n",
      "24 is not a prime number\n",
      "25 is a prime\n",
      "26 is not a prime number\n"
     ]
    }
   ],
   "source": [
    "#print all prime numbers\n",
    "n=int(input('enter n value:'))\n",
    "if n<=0:\n",
    "    print(n,'is not a prime!')\n",
    "else:\n",
    "    for i in range(2,n):\n",
    "        if i%2==0:\n",
    "            print(i,'is not a prime number')\n",
    "        else:\n",
    "            print(i,'is a prime')"
   ]
  },
  {
   "cell_type": "code",
   "execution_count": 32,
   "metadata": {},
   "outputs": [
    {
     "name": "stdout",
     "output_type": "stream",
     "text": [
      "enter the number:21\n",
      "21 is a prime\n",
      "21 is not a prime\n"
     ]
    }
   ],
   "source": [
    "#print a prime number\n",
    "n=int(input('enter the number:'))\n",
    "if n > 1:\n",
    "    for i in range(2,n):\n",
    "        if(n%i)==0:\n",
    "            print(n,'is not a prime')\n",
    "            break\n",
    "        else:\n",
    "            print(n,'is a prime')\n",
    "else:\n",
    "    print(n,'is not a prime')"
   ]
  },
  {
   "cell_type": "code",
   "execution_count": 33,
   "metadata": {},
   "outputs": [
    {
     "name": "stdout",
     "output_type": "stream",
     "text": [
      "120 is factorial of 5\n"
     ]
    }
   ],
   "source": [
    "#factorial of a number\n",
    "f=1\n",
    "num=5\n",
    "for i in range(1,num+1):\n",
    "    f*=i\n",
    "print(f,'is factorial of',num)"
   ]
  },
  {
   "cell_type": "code",
   "execution_count": 35,
   "metadata": {},
   "outputs": [
    {
     "name": "stdout",
     "output_type": "stream",
     "text": [
      "length of python is 6\n"
     ]
    }
   ],
   "source": [
    "#calculate length of a string\n",
    "str='python'\n",
    "print('length of',str,'is',len(str))"
   ]
  },
  {
   "cell_type": "code",
   "execution_count": null,
   "metadata": {},
   "outputs": [],
   "source": []
  }
 ],
 "metadata": {
  "kernelspec": {
   "display_name": "Python 3",
   "language": "python",
   "name": "python3"
  },
  "language_info": {
   "codemirror_mode": {
    "name": "ipython",
    "version": 3
   },
   "file_extension": ".py",
   "mimetype": "text/x-python",
   "name": "python",
   "nbconvert_exporter": "python",
   "pygments_lexer": "ipython3",
   "version": "3.6.9"
  }
 },
 "nbformat": 4,
 "nbformat_minor": 2
}
